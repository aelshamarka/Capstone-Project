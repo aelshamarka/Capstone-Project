{
 "cells": [
  {
   "cell_type": "code",
   "execution_count": 1,
   "metadata": {},
   "outputs": [],
   "source": [
    "import pandas as pd\n",
    "import matplotlib.pyplot as plt\n",
    "import seaborn as sns\n",
    "%matplotlib inline"
   ]
  },
  {
   "cell_type": "code",
   "execution_count": 2,
   "metadata": {},
   "outputs": [],
   "source": [
    "import scipy.stats as ss\n",
    "from sklearn.feature_selection import SelectKBest\n",
    "from sklearn.feature_selection import f_classif\n",
    "from sklearn import preprocessing\n",
    "min_max_scaler = preprocessing.MinMaxScaler()"
   ]
  },
  {
   "cell_type": "code",
   "execution_count": 3,
   "metadata": {},
   "outputs": [],
   "source": [
    "from sklearn.compose import ColumnTransformer\n",
    "from sklearn.datasets import fetch_openml\n",
    "from sklearn.pipeline import Pipeline\n",
    "from sklearn.impute import SimpleImputer\n",
    "from sklearn.preprocessing import StandardScaler, OneHotEncoder, MinMaxScaler"
   ]
  },
  {
   "cell_type": "code",
   "execution_count": 4,
   "metadata": {},
   "outputs": [],
   "source": [
    "from sklearn.compose import make_column_selector as selector\n",
    "from sklearn.feature_selection import chi2\n",
    "from sklearn.linear_model import LogisticRegression\n",
    "from sklearn.model_selection import cross_validate\n",
    "from sklearn.model_selection import train_test_split\n",
    "from sklearn.metrics import classification_report, confusion_matrix\n",
    "from sklearn import metrics"
   ]
  },
  {
   "cell_type": "code",
   "execution_count": 5,
   "metadata": {},
   "outputs": [
    {
     "name": "stdout",
     "output_type": "stream",
     "text": [
      "<class 'pandas.core.frame.DataFrame'>\n",
      "Int64Index: 235206 entries, 4466353010 to 9995973006\n",
      "Data columns (total 16 columns):\n",
      " #   Column         Non-Null Count   Dtype  \n",
      "---  ------         --------------   -----  \n",
      " 0   City           235206 non-null  object \n",
      " 1   State          235206 non-null  object \n",
      " 2   Bank           235206 non-null  object \n",
      " 3   BankState      235206 non-null  object \n",
      " 4   NAICS          235206 non-null  int64  \n",
      " 5   NoEmp          235206 non-null  int64  \n",
      " 6   NewExist       235206 non-null  int64  \n",
      " 7   FranchiseCode  235206 non-null  int64  \n",
      " 8   UrbanRural     235206 non-null  int64  \n",
      " 9   RevLineCr      235206 non-null  object \n",
      " 10  LowDoc         235206 non-null  object \n",
      " 11  Term           235206 non-null  int64  \n",
      " 12  CreateJob      235206 non-null  int64  \n",
      " 13  RetainedJob    235206 non-null  int64  \n",
      " 14  GrAppv         235206 non-null  float64\n",
      " 15  MIS_Status     235206 non-null  int64  \n",
      "dtypes: float64(1), int64(9), object(6)\n",
      "memory usage: 30.5+ MB\n"
     ]
    }
   ],
   "source": [
    "df3 = pd.read_csv('./SBAnational_final.CSV', index_col='LoanNr_ChkDgt')\n",
    "df3.info()"
   ]
  },
  {
   "cell_type": "code",
   "execution_count": 6,
   "metadata": {},
   "outputs": [
    {
     "name": "stdout",
     "output_type": "stream",
     "text": [
      "<class 'pandas.core.frame.DataFrame'>\n",
      "Int64Index: 235206 entries, 4466353010 to 9995973006\n",
      "Data columns (total 16 columns):\n",
      " #   Column         Non-Null Count   Dtype  \n",
      "---  ------         --------------   -----  \n",
      " 0   City           235206 non-null  object \n",
      " 1   State          235206 non-null  object \n",
      " 2   Bank           235206 non-null  object \n",
      " 3   BankState      235206 non-null  object \n",
      " 4   NAICS          235206 non-null  object \n",
      " 5   NoEmp          235206 non-null  object \n",
      " 6   NewExist       235206 non-null  object \n",
      " 7   FranchiseCode  235206 non-null  object \n",
      " 8   UrbanRural     235206 non-null  object \n",
      " 9   RevLineCr      235206 non-null  object \n",
      " 10  LowDoc         235206 non-null  object \n",
      " 11  Term           235206 non-null  int64  \n",
      " 12  CreateJob      235206 non-null  int64  \n",
      " 13  RetainedJob    235206 non-null  int64  \n",
      " 14  GrAppv         235206 non-null  float64\n",
      " 15  MIS_Status     235206 non-null  int64  \n",
      "dtypes: float64(1), int64(4), object(11)\n",
      "memory usage: 30.5+ MB\n"
     ]
    }
   ],
   "source": [
    "df3['UrbanRural'] = df3['UrbanRural'].astype(str)\n",
    "df3['NAICS'] = df3['NAICS'].astype(str)\n",
    "df3['NoEmp'] = df3['NoEmp'].astype(str)\n",
    "df3['NewExist'] = df3['NewExist'].astype(str)\n",
    "df3['FranchiseCode'] = df3['FranchiseCode'].astype(str)\n",
    "df3.info()"
   ]
  },
  {
   "cell_type": "code",
   "execution_count": 7,
   "metadata": {},
   "outputs": [],
   "source": [
    "columns_to_encode = ['City','State','Bank','BankState','NAICS', 'NoEmp', 'NewExist', 'FranchiseCode', 'UrbanRural', 'RevLineCr', 'LowDoc']\n",
    "columns_to_scale  = ['Term', 'CreateJob', 'RetainedJob', 'GrAppv']\n",
    "scaler = MinMaxScaler()\n",
    "ohe    = OneHotEncoder(sparse=False)\n",
    "scaled_columns  = scaler.fit_transform(df3[columns_to_scale]) \n",
    "encoded_columns =    ohe.fit_transform(df3[columns_to_encode])"
   ]
  },
  {
   "cell_type": "code",
   "execution_count": 8,
   "metadata": {},
   "outputs": [
    {
     "data": {
      "text/plain": [
       "(235206, 23464)"
      ]
     },
     "execution_count": 8,
     "metadata": {},
     "output_type": "execute_result"
    }
   ],
   "source": [
    "encoded_columns.shape"
   ]
  },
  {
   "cell_type": "code",
   "execution_count": 9,
   "metadata": {},
   "outputs": [],
   "source": [
    "test2= SelectKBest(chi2, k=1000)\n",
    "fit3= test2.fit(encoded_columns, df3['MIS_Status'])\n",
    "features2=fit3.transform(encoded_columns)\n",
    "scores = pd.DataFrame(fit3.scores_)"
   ]
  },
  {
   "cell_type": "code",
   "execution_count": 10,
   "metadata": {},
   "outputs": [
    {
     "data": {
      "text/plain": [
       "(235206, 1000)"
      ]
     },
     "execution_count": 10,
     "metadata": {},
     "output_type": "execute_result"
    }
   ],
   "source": [
    "features2.shape"
   ]
  },
  {
   "cell_type": "code",
   "execution_count": 11,
   "metadata": {},
   "outputs": [],
   "source": [
    "import numpy as np\n",
    "processed_data = np.concatenate([scaled_columns, features2], axis=1)"
   ]
  },
  {
   "cell_type": "code",
   "execution_count": 12,
   "metadata": {},
   "outputs": [
    {
     "name": "stdout",
     "output_type": "stream",
     "text": [
      "   0     1     2         3     4     5     6     7     8     9     ...  994   \\\n",
      "0   0.4   0.0   0.0  0.243615   0.0   0.0   0.0   0.0   0.0   0.0  ...   0.0   \n",
      "\n",
      "   995   996   997   998   999   1000  1001  1002  1003  \n",
      "0   1.0   0.0   0.0   0.0   1.0   0.0   0.0   1.0   0.0  \n",
      "\n",
      "[1 rows x 1004 columns]\n"
     ]
    }
   ],
   "source": [
    "print(pd.DataFrame(processed_data).head(1))"
   ]
  },
  {
   "cell_type": "markdown",
   "metadata": {},
   "source": [
    "# Splitting data , SVM model , accuracy, precision, recall, ROC"
   ]
  },
  {
   "cell_type": "code",
   "execution_count": 13,
   "metadata": {},
   "outputs": [],
   "source": [
    "from scipy import sparse\n",
    "X_train, X_test, y_train, y_test = train_test_split(sparse.csr_matrix(processed_data), df3['MIS_Status'], test_size=0.3, random_state=0)"
   ]
  },
  {
   "cell_type": "code",
   "execution_count": 14,
   "metadata": {},
   "outputs": [],
   "source": [
    "from sklearn.svm import SVC\n",
    "from sklearn import svm"
   ]
  },
  {
   "cell_type": "code",
   "execution_count": 15,
   "metadata": {},
   "outputs": [],
   "source": [
    "svm_clf = svm.SVC()"
   ]
  },
  {
   "cell_type": "code",
   "execution_count": 16,
   "metadata": {},
   "outputs": [
    {
     "data": {
      "text/plain": [
       "SVC(C=1.0, break_ties=False, cache_size=200, class_weight=None, coef0=0.0,\n",
       "    decision_function_shape='ovr', degree=3, gamma='scale', kernel='rbf',\n",
       "    max_iter=-1, probability=False, random_state=None, shrinking=True,\n",
       "    tol=0.001, verbose=False)"
      ]
     },
     "execution_count": 16,
     "metadata": {},
     "output_type": "execute_result"
    }
   ],
   "source": [
    "svm_clf.fit(X_train, y_train)"
   ]
  },
  {
   "cell_type": "code",
   "execution_count": 17,
   "metadata": {},
   "outputs": [],
   "source": [
    "y_pred_svm = svm_clf.predict(X_test)"
   ]
  },
  {
   "cell_type": "code",
   "execution_count": 18,
   "metadata": {},
   "outputs": [
    {
     "name": "stdout",
     "output_type": "stream",
     "text": [
      "Accuracy of SVM classifier on test set: 0.85\n"
     ]
    }
   ],
   "source": [
    "print('Accuracy of SVM classifier on test set: {:.2f}'.format(svm_clf.score(X_test, y_test)))"
   ]
  },
  {
   "cell_type": "code",
   "execution_count": 19,
   "metadata": {},
   "outputs": [
    {
     "name": "stdout",
     "output_type": "stream",
     "text": [
      "[[31351  3889]\n",
      " [ 6830 28492]]\n"
     ]
    }
   ],
   "source": [
    "confusion_matrix2 = confusion_matrix(y_test, y_pred_svm)\n",
    "print(confusion_matrix2)"
   ]
  },
  {
   "cell_type": "code",
   "execution_count": 20,
   "metadata": {},
   "outputs": [
    {
     "name": "stdout",
     "output_type": "stream",
     "text": [
      "              precision    recall  f1-score   support\n",
      "\n",
      "           0       0.82      0.89      0.85     35240\n",
      "           1       0.88      0.81      0.84     35322\n",
      "\n",
      "    accuracy                           0.85     70562\n",
      "   macro avg       0.85      0.85      0.85     70562\n",
      "weighted avg       0.85      0.85      0.85     70562\n",
      "\n"
     ]
    }
   ],
   "source": [
    "print(classification_report(y_test, y_pred_svm))"
   ]
  },
  {
   "cell_type": "code",
   "execution_count": 21,
   "metadata": {},
   "outputs": [],
   "source": [
    "from sklearn.metrics import roc_auc_score\n",
    "from sklearn.metrics import roc_curve, auc\n",
    "svm_probs= svm_clf.decision_function(X_test)"
   ]
  },
  {
   "cell_type": "code",
   "execution_count": 22,
   "metadata": {},
   "outputs": [],
   "source": [
    "fpr, tpr, thres = roc_curve(y_test, svm_probs)"
   ]
  },
  {
   "cell_type": "code",
   "execution_count": 23,
   "metadata": {},
   "outputs": [],
   "source": [
    "svm_roc_auc1 = roc_auc_score(y_test, svm_probs)"
   ]
  },
  {
   "cell_type": "code",
   "execution_count": 24,
   "metadata": {},
   "outputs": [
    {
     "data": {
      "text/plain": [
       "0.9075540606925449"
      ]
     },
     "execution_count": 24,
     "metadata": {},
     "output_type": "execute_result"
    }
   ],
   "source": [
    "svm_roc_auc1"
   ]
  },
  {
   "cell_type": "code",
   "execution_count": 25,
   "metadata": {},
   "outputs": [
    {
     "data": {
      "image/png": "[encoded data removed]",
      "text/plain": [
       "<Figure size 432x288 with 1 Axes>"
      ]
     },
     "metadata": {
      "needs_background": "light"
     },
     "output_type": "display_data"
    }
   ],
   "source": [
    "plt.figure()\n",
    "plt.plot(fpr, tpr, label='SVM (area = %0.2f)' % svm_roc_auc1)\n",
    "plt.plot([0, 1], [0, 1],'r--')\n",
    "plt.xlim([0.0, 1.0])\n",
    "plt.ylim([0.0, 1.05])\n",
    "plt.xlabel('False Positive Rate')\n",
    "plt.ylabel('True Positive Rate')\n",
    "plt.title('Receiver operating characteristic')\n",
    "plt.legend(loc=\"lower right\")\n",
    "plt.savefig('SVM_ROC')\n",
    "plt.show()"
   ]
  },
  {
   "cell_type": "markdown",
   "metadata": {},
   "source": [
    "# SVM model with cross validation , accuracy, F1 Score, Precision and Recall results "
   ]
  },
  {
   "cell_type": "code",
   "execution_count": 26,
   "metadata": {},
   "outputs": [],
   "source": [
    "from sklearn.model_selection import cross_val_score\n",
    "svm_cv_scores = cross_val_score(svm_clf, sparse.csr_matrix(processed_data), df3['MIS_Status'], cv=5)"
   ]
  },
  {
   "cell_type": "code",
   "execution_count": 27,
   "metadata": {},
   "outputs": [
    {
     "data": {
      "text/plain": [
       "array([0.8584669 , 0.86107863, 0.84279671, 0.75808337, 0.80786973])"
      ]
     },
     "execution_count": 27,
     "metadata": {},
     "output_type": "execute_result"
    }
   ],
   "source": [
    "svm_cv_scores"
   ]
  },
  {
   "cell_type": "code",
   "execution_count": 28,
   "metadata": {},
   "outputs": [
    {
     "data": {
      "text/plain": [
       "array([0.85839059, 0.86102525, 0.84249876, 0.7529498 , 0.8064683 ])"
      ]
     },
     "execution_count": 28,
     "metadata": {},
     "output_type": "execute_result"
    }
   ],
   "source": [
    "svm_F1= cross_val_score(svm_clf, sparse.csr_matrix(processed_data), df3['MIS_Status'], cv=5, scoring='f1_macro')\n",
    "svm_F1"
   ]
  },
  {
   "cell_type": "code",
   "execution_count": 29,
   "metadata": {},
   "outputs": [],
   "source": [
    "from sklearn.model_selection import cross_val_predict\n",
    "svm_predicted = cross_val_predict(svm_clf, sparse.csr_matrix(processed_data), df3['MIS_Status'], cv=5)"
   ]
  },
  {
   "cell_type": "code",
   "execution_count": 30,
   "metadata": {},
   "outputs": [
    {
     "data": {
      "text/plain": [
       "array([[104522,  13081],\n",
       "       [ 27925,  89678]], dtype=int64)"
      ]
     },
     "execution_count": 30,
     "metadata": {},
     "output_type": "execute_result"
    }
   ],
   "source": [
    "svm_cm= confusion_matrix(df3['MIS_Status'], svm_predicted)\n",
    "svm_cm"
   ]
  },
  {
   "cell_type": "code",
   "execution_count": 31,
   "metadata": {},
   "outputs": [
    {
     "data": {
      "text/plain": [
       "0.2374514255588718"
      ]
     },
     "execution_count": 31,
     "metadata": {},
     "output_type": "execute_result"
    }
   ],
   "source": [
    "type2_error = svm_cm[1][0]/ (svm_cm[1][0] + svm_cm[1][1])\n",
    "type2_error"
   ]
  },
  {
   "cell_type": "code",
   "execution_count": 32,
   "metadata": {},
   "outputs": [
    {
     "data": {
      "text/plain": [
       "27925"
      ]
     },
     "execution_count": 32,
     "metadata": {},
     "output_type": "execute_result"
    }
   ],
   "source": [
    "FN=confusion_matrix(df3['MIS_Status'], svm_predicted)[1][0]\n",
    "FN"
   ]
  },
  {
   "cell_type": "code",
   "execution_count": 33,
   "metadata": {},
   "outputs": [
    {
     "data": {
      "text/plain": [
       "0.826"
      ]
     },
     "execution_count": 33,
     "metadata": {},
     "output_type": "execute_result"
    }
   ],
   "source": [
    "svm_cv_avgscores= round(svm_cv_scores.mean(),3)\n",
    "svm_cv_avgscores"
   ]
  },
  {
   "cell_type": "code",
   "execution_count": 34,
   "metadata": {},
   "outputs": [],
   "source": [
    "from sklearn.metrics import precision_score\n",
    "from sklearn.metrics import recall_score"
   ]
  },
  {
   "cell_type": "code",
   "execution_count": 35,
   "metadata": {},
   "outputs": [
    {
     "data": {
      "text/plain": [
       "0.873"
      ]
     },
     "execution_count": 35,
     "metadata": {},
     "output_type": "execute_result"
    }
   ],
   "source": [
    "svm_precision1= round(precision_score(df3['MIS_Status'], svm_predicted),3)\n",
    "svm_precision1"
   ]
  },
  {
   "cell_type": "code",
   "execution_count": 36,
   "metadata": {},
   "outputs": [
    {
     "data": {
      "text/plain": [
       "0.8309315475707886"
      ]
     },
     "execution_count": 36,
     "metadata": {},
     "output_type": "execute_result"
    }
   ],
   "source": [
    "svm_precision2= precision_score(df3['MIS_Status'],svm_predicted,average='macro')\n",
    "svm_precision2"
   ]
  },
  {
   "cell_type": "code",
   "execution_count": 37,
   "metadata": {},
   "outputs": [
    {
     "data": {
      "text/plain": [
       "0.8309315475707885"
      ]
     },
     "execution_count": 37,
     "metadata": {},
     "output_type": "execute_result"
    }
   ],
   "source": [
    "svm_precision3= precision_score(df3['MIS_Status'],svm_predicted,average='weighted')\n",
    "svm_precision3"
   ]
  },
  {
   "cell_type": "code",
   "execution_count": 38,
   "metadata": {},
   "outputs": [
    {
     "data": {
      "text/plain": [
       "0.763"
      ]
     },
     "execution_count": 38,
     "metadata": {},
     "output_type": "execute_result"
    }
   ],
   "source": [
    "svm_recall1= round(recall_score(df3['MIS_Status'], svm_predicted),3)\n",
    "svm_recall1"
   ]
  },
  {
   "cell_type": "code",
   "execution_count": 39,
   "metadata": {},
   "outputs": [
    {
     "data": {
      "text/plain": [
       "0.8256592093739106"
      ]
     },
     "execution_count": 39,
     "metadata": {},
     "output_type": "execute_result"
    }
   ],
   "source": [
    "svm_recall2= recall_score(df3['MIS_Status'],svm_predicted,average='macro')\n",
    "svm_recall2"
   ]
  },
  {
   "cell_type": "code",
   "execution_count": 40,
   "metadata": {},
   "outputs": [
    {
     "data": {
      "text/plain": [
       "0.8256592093739106"
      ]
     },
     "execution_count": 40,
     "metadata": {},
     "output_type": "execute_result"
    }
   ],
   "source": [
    "svm_recall3= recall_score(df3['MIS_Status'],svm_predicted,average='weighted')\n",
    "svm_recall3"
   ]
  },
  {
   "cell_type": "code",
   "execution_count": 41,
   "metadata": {},
   "outputs": [],
   "source": [
    "svm_aucs = cross_val_score(svm_clf, sparse.csr_matrix(processed_data), df3['MIS_Status'], cv=5, scoring='roc_auc') "
   ]
  },
  {
   "cell_type": "code",
   "execution_count": 42,
   "metadata": {},
   "outputs": [
    {
     "data": {
      "text/plain": [
       "array([0.91987669, 0.92038325, 0.90880575, 0.82878531, 0.87779767])"
      ]
     },
     "execution_count": 42,
     "metadata": {},
     "output_type": "execute_result"
    }
   ],
   "source": [
    "svm_aucs"
   ]
  },
  {
   "cell_type": "code",
   "execution_count": 43,
   "metadata": {},
   "outputs": [
    {
     "data": {
      "text/plain": [
       "0.891"
      ]
     },
     "execution_count": 43,
     "metadata": {},
     "output_type": "execute_result"
    }
   ],
   "source": [
    "svm_aucs_avg= round(svm_aucs.mean(),3)\n",
    "svm_aucs_avg"
   ]
  },
  {
   "cell_type": "code",
   "execution_count": 44,
   "metadata": {},
   "outputs": [
    {
     "name": "stdout",
     "output_type": "stream",
     "text": [
      "precision: [0.78916095 0.87270215]\n",
      "recall: [0.88876984 0.76254857]\n",
      "fscore: [0.8360088  0.81391528]\n",
      "support: [117603 117603]\n"
     ]
    }
   ],
   "source": [
    "from sklearn.metrics import precision_recall_fscore_support as score\n",
    "\n",
    "precision, recall, fscore, support = score(df3['MIS_Status'], svm_predicted)\n",
    "\n",
    "print('precision: {}'.format(precision))\n",
    "print('recall: {}'.format(recall))\n",
    "print('fscore: {}'.format(fscore))\n",
    "print('support: {}'.format(support))"
   ]
  },
  {
   "cell_type": "markdown",
   "metadata": {},
   "source": [
    "# Classifiers comparison"
   ]
  },
  {
   "cell_type": "markdown",
   "metadata": {},
   "source": [
    "Accuracy comparison "
   ]
  },
  {
   "cell_type": "code",
   "execution_count": 45,
   "metadata": {},
   "outputs": [
    {
     "data": {
      "text/html": [
       "<div>\n",
       "<style scoped>\n",
       "    .dataframe tbody tr th:only-of-type {\n",
       "        vertical-align: middle;\n",
       "    }\n",
       "\n",
       "    .dataframe tbody tr th {\n",
       "        vertical-align: top;\n",
       "    }\n",
       "\n",
       "    .dataframe thead th {\n",
       "        text-align: right;\n",
       "    }\n",
       "</style>\n",
       "<table border=\"1\" class=\"dataframe\">\n",
       "  <thead>\n",
       "    <tr style=\"text-align: right;\">\n",
       "      <th></th>\n",
       "      <th>SVM</th>\n",
       "      <th>MLP</th>\n",
       "      <th>LR</th>\n",
       "    </tr>\n",
       "  </thead>\n",
       "  <tbody>\n",
       "    <tr>\n",
       "      <th>0</th>\n",
       "      <td>0.858467</td>\n",
       "      <td>0.852982</td>\n",
       "      <td>0.827154</td>\n",
       "    </tr>\n",
       "    <tr>\n",
       "      <th>1</th>\n",
       "      <td>0.861079</td>\n",
       "      <td>0.865670</td>\n",
       "      <td>0.819392</td>\n",
       "    </tr>\n",
       "    <tr>\n",
       "      <th>2</th>\n",
       "      <td>0.842797</td>\n",
       "      <td>0.848536</td>\n",
       "      <td>0.801003</td>\n",
       "    </tr>\n",
       "    <tr>\n",
       "      <th>3</th>\n",
       "      <td>0.758083</td>\n",
       "      <td>0.774473</td>\n",
       "      <td>0.748539</td>\n",
       "    </tr>\n",
       "    <tr>\n",
       "      <th>4</th>\n",
       "      <td>0.807870</td>\n",
       "      <td>0.823771</td>\n",
       "      <td>0.782062</td>\n",
       "    </tr>\n",
       "  </tbody>\n",
       "</table>\n",
       "</div>"
      ],
      "text/plain": [
       "        SVM       MLP        LR\n",
       "0  0.858467  0.852982  0.827154\n",
       "1  0.861079  0.865670  0.819392\n",
       "2  0.842797  0.848536  0.801003\n",
       "3  0.758083  0.774473  0.748539\n",
       "4  0.807870  0.823771  0.782062"
      ]
     },
     "execution_count": 45,
     "metadata": {},
     "output_type": "execute_result"
    }
   ],
   "source": [
    "acc_data = {'SVM':[0.8584669 , 0.86107863, 0.84279671, 0.75808337, 0.80786973], 'MLP':[0.85298244, 0.86567037, 0.84853638, 0.77447333, 0.82377075], 'LR':[0.82715446, 0.81939159, 0.80100338, 0.74853851, 0.78206246]}\n",
    "acc_comparison = pd.DataFrame(acc_data)\n",
    "acc_comparison"
   ]
  },
  {
   "cell_type": "code",
   "execution_count": 46,
   "metadata": {},
   "outputs": [
    {
     "data": {
      "text/plain": [
       "<matplotlib.axes._subplots.AxesSubplot at 0x1ec532d2708>"
      ]
     },
     "execution_count": 46,
     "metadata": {},
     "output_type": "execute_result"
    },
    {
     "data": {
      "image/png": "[encoded data removed]",
      "text/plain": [
       "<Figure size 1080x720 with 1 Axes>"
      ]
     },
     "metadata": {
      "needs_background": "light"
     },
     "output_type": "display_data"
    }
   ],
   "source": [
    "plt.figure(figsize=(15,10))\n",
    "acc_comparison_long = pd.melt(acc_comparison, var_name=\"Model\", value_name=\"Accuracy\")\n",
    "sns.boxplot(x = \"Model\", y=\"Accuracy\", data = acc_comparison_long)"
   ]
  },
  {
   "cell_type": "markdown",
   "metadata": {},
   "source": [
    "F1 Score Comparison "
   ]
  },
  {
   "cell_type": "code",
   "execution_count": 47,
   "metadata": {},
   "outputs": [
    {
     "data": {
      "text/html": [
       "<div>\n",
       "<style scoped>\n",
       "    .dataframe tbody tr th:only-of-type {\n",
       "        vertical-align: middle;\n",
       "    }\n",
       "\n",
       "    .dataframe tbody tr th {\n",
       "        vertical-align: top;\n",
       "    }\n",
       "\n",
       "    .dataframe thead th {\n",
       "        text-align: right;\n",
       "    }\n",
       "</style>\n",
       "<table border=\"1\" class=\"dataframe\">\n",
       "  <thead>\n",
       "    <tr style=\"text-align: right;\">\n",
       "      <th></th>\n",
       "      <th>SVM</th>\n",
       "      <th>MLP</th>\n",
       "      <th>LR</th>\n",
       "    </tr>\n",
       "  </thead>\n",
       "  <tbody>\n",
       "    <tr>\n",
       "      <th>0</th>\n",
       "      <td>0.858391</td>\n",
       "      <td>0.864210</td>\n",
       "      <td>0.827031</td>\n",
       "    </tr>\n",
       "    <tr>\n",
       "      <th>1</th>\n",
       "      <td>0.861025</td>\n",
       "      <td>0.866982</td>\n",
       "      <td>0.819327</td>\n",
       "    </tr>\n",
       "    <tr>\n",
       "      <th>2</th>\n",
       "      <td>0.842499</td>\n",
       "      <td>0.847537</td>\n",
       "      <td>0.801002</td>\n",
       "    </tr>\n",
       "    <tr>\n",
       "      <th>3</th>\n",
       "      <td>0.752950</td>\n",
       "      <td>0.767154</td>\n",
       "      <td>0.747307</td>\n",
       "    </tr>\n",
       "    <tr>\n",
       "      <th>4</th>\n",
       "      <td>0.806468</td>\n",
       "      <td>0.812226</td>\n",
       "      <td>0.781990</td>\n",
       "    </tr>\n",
       "  </tbody>\n",
       "</table>\n",
       "</div>"
      ],
      "text/plain": [
       "        SVM       MLP        LR\n",
       "0  0.858391  0.864210  0.827031\n",
       "1  0.861025  0.866982  0.819327\n",
       "2  0.842499  0.847537  0.801002\n",
       "3  0.752950  0.767154  0.747307\n",
       "4  0.806468  0.812226  0.781990"
      ]
     },
     "execution_count": 47,
     "metadata": {},
     "output_type": "execute_result"
    }
   ],
   "source": [
    "F1_data = {'SVM':[0.85839059, 0.86102525, 0.84249876, 0.7529498 , 0.8064683], 'MLP':[0.8642097 , 0.86698229, 0.84753724, 0.76715386, 0.81222581], 'LR':[0.82703096, 0.81932736, 0.80100204, 0.74730697, 0.78199044]}\n",
    "F1_comparison = pd.DataFrame(F1_data)\n",
    "F1_comparison"
   ]
  },
  {
   "cell_type": "code",
   "execution_count": 48,
   "metadata": {},
   "outputs": [
    {
     "data": {
      "text/plain": [
       "<matplotlib.axes._subplots.AxesSubplot at 0x1ec5361bd88>"
      ]
     },
     "execution_count": 48,
     "metadata": {},
     "output_type": "execute_result"
    },
    {
     "data": {
      "image/png": "[encoded data removed]",
      "text/plain": [
       "<Figure size 1080x720 with 1 Axes>"
      ]
     },
     "metadata": {
      "needs_background": "light"
     },
     "output_type": "display_data"
    }
   ],
   "source": [
    "plt.figure(figsize=(15,10))\n",
    "F1_comparison_long = pd.melt(acc_comparison, var_name=\"Model\", value_name=\"F1_Score\")\n",
    "sns.boxplot(x = \"Model\", y=\"F1_Score\", data = F1_comparison_long)"
   ]
  },
  {
   "cell_type": "markdown",
   "metadata": {},
   "source": [
    "# Type 2 Error, Accuracy and AUC comparison Table"
   ]
  },
  {
   "cell_type": "code",
   "execution_count": 52,
   "metadata": {},
   "outputs": [
    {
     "data": {
      "text/html": [
       "<div>\n",
       "<style scoped>\n",
       "    .dataframe tbody tr th:only-of-type {\n",
       "        vertical-align: middle;\n",
       "    }\n",
       "\n",
       "    .dataframe tbody tr th {\n",
       "        vertical-align: top;\n",
       "    }\n",
       "\n",
       "    .dataframe thead th {\n",
       "        text-align: right;\n",
       "    }\n",
       "</style>\n",
       "<table border=\"1\" class=\"dataframe\">\n",
       "  <thead>\n",
       "    <tr style=\"text-align: right;\">\n",
       "      <th></th>\n",
       "      <th>Model</th>\n",
       "      <th>TP</th>\n",
       "      <th>TN</th>\n",
       "      <th>FP</th>\n",
       "      <th>FN</th>\n",
       "      <th>Precision</th>\n",
       "      <th>Recall</th>\n",
       "      <th>Type_2_Error</th>\n",
       "      <th>F1</th>\n",
       "      <th>ACC</th>\n",
       "      <th>AUC</th>\n",
       "    </tr>\n",
       "  </thead>\n",
       "  <tbody>\n",
       "    <tr>\n",
       "      <th>0</th>\n",
       "      <td>SVM</td>\n",
       "      <td>89678</td>\n",
       "      <td>104522</td>\n",
       "      <td>13081</td>\n",
       "      <td>27925</td>\n",
       "      <td>87.3%</td>\n",
       "      <td>76.2%</td>\n",
       "      <td>23.7%</td>\n",
       "      <td>81.4%</td>\n",
       "      <td>82.6%</td>\n",
       "      <td>89.1%</td>\n",
       "    </tr>\n",
       "    <tr>\n",
       "      <th>1</th>\n",
       "      <td>MLP</td>\n",
       "      <td>93745</td>\n",
       "      <td>102184</td>\n",
       "      <td>15419</td>\n",
       "      <td>23858</td>\n",
       "      <td>84.9%</td>\n",
       "      <td>80.8%</td>\n",
       "      <td>20.2%</td>\n",
       "      <td>82.9%</td>\n",
       "      <td>83.3%</td>\n",
       "      <td>89.5%</td>\n",
       "    </tr>\n",
       "    <tr>\n",
       "      <th>2</th>\n",
       "      <td>LR</td>\n",
       "      <td>92510</td>\n",
       "      <td>94627</td>\n",
       "      <td>22976</td>\n",
       "      <td>25093</td>\n",
       "      <td>80.1%</td>\n",
       "      <td>78.7%</td>\n",
       "      <td>21.3%</td>\n",
       "      <td>79.4%</td>\n",
       "      <td>79.6%</td>\n",
       "      <td>85.3%</td>\n",
       "    </tr>\n",
       "  </tbody>\n",
       "</table>\n",
       "</div>"
      ],
      "text/plain": [
       "  Model     TP      TN     FP     FN Precision Recall Type_2_Error     F1  \\\n",
       "0   SVM  89678  104522  13081  27925     87.3%  76.2%        23.7%  81.4%   \n",
       "1   MLP  93745  102184  15419  23858     84.9%  80.8%        20.2%  82.9%   \n",
       "2    LR  92510   94627  22976  25093     80.1%  78.7%        21.3%  79.4%   \n",
       "\n",
       "     ACC    AUC  \n",
       "0  82.6%  89.1%  \n",
       "1  83.3%  89.5%  \n",
       "2  79.6%  85.3%  "
      ]
     },
     "execution_count": 52,
     "metadata": {},
     "output_type": "execute_result"
    }
   ],
   "source": [
    "Final_Comp = {'Model':['SVM','MLP','LR'],'TP':['89678','93745','92510'],'TN':['104522','102184','94627'],'FP':['13081','15419','22976'],'FN':['27925','23858','25093'],'Precision':['87.3%','84.9%','80.1%'],'Recall':['76.2%','80.8%','78.7%'], 'Type_2_Error':['23.7%' , '20.2%', '21.3%'],'F1':['81.4%','82.9%','79.4%'], 'ACC':['82.6%', '83.3%', '79.6%'], 'AUC':['89.1%', '89.5%', '85.3%']}\n",
    "Final_Comparison = pd.DataFrame(Final_Comp)\n",
    "Final_Comparison"
   ]
  },
  {
   "cell_type": "code",
   "execution_count": null,
   "metadata": {},
   "outputs": [],
   "source": []
  }
 ],
 "metadata": {
  "kernelspec": {
   "display_name": "Python 3",
   "language": "python",
   "name": "python3"
  },
  "language_info": {
   "codemirror_mode": {
    "name": "ipython",
    "version": 3
   },
   "file_extension": ".py",
   "mimetype": "text/x-python",
   "name": "python",
   "nbconvert_exporter": "python",
   "pygments_lexer": "ipython3",
   "version": "3.7.6"
  }
 },
 "nbformat": 4,
 "nbformat_minor": 4
}
